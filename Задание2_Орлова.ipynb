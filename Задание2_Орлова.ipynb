{
 "cells": [
  {
   "cell_type": "markdown",
   "id": "e1c66bb9-dba4-486a-ad12-464fb5a97d3e",
   "metadata": {},
   "source": [
    "# Оценка результатов акции по Партнеру, рекомендации по механике и ее использованию в следующих активностях"
   ]
  },
  {
   "cell_type": "markdown",
   "id": "346f291a-1729-49e5-ade6-92142a6a914d",
   "metadata": {},
   "source": [
    "<a id=\"начало\"></a>"
   ]
  },
  {
   "cell_type": "markdown",
   "id": "b4d0daab-38cd-4e9b-877a-dd84b99056b0",
   "metadata": {},
   "source": [
    "<div style=\"border:solid black 2px; padding: 20px\">\n",
    "\n",
    "Акция 3% кэшбэк на сумму от 999 рублей.\n",
    "\n",
    "Период акции 01.12.2022-31.03.2023 г. (4 месяца).\n",
    "\n",
    "Цель: оценить результаты акции по Партнеру, предоставить рекомендации по механике и ее использованию в следующих активностях.\n",
    "\n",
    "Содержание работы:\n",
    "\n",
    "1. [Загрузка данных](#загрузка)\n",
    "2. [Лайфтайм](#Лайфтайм)\n",
    "3. [Коэффициент удержания](#Коэффициент_удержания)\n",
    "4. [Коэффициент отскока](#коэффициент_отскока)\n",
    "5. [Частота транзакций](#Частота_транзакций)\n",
    "6. [Средний чек](#средний)\n",
    "7. [Доход с одного клиента](#доход)\n",
    "8. [Оборот по месяцам](#оборот)\n",
    "9. [Соотношение доходов и расходов](#Соотношение)\n",
    "10. [Выводы](#Выводы)\n",
    "    \n",
    "</div>"
   ]
  },
  {
   "cell_type": "markdown",
   "id": "ab6db61c-0861-4c4e-ab79-9f752b7c7020",
   "metadata": {},
   "source": [
    "[В начало](#начало)"
   ]
  },
  {
   "cell_type": "markdown",
   "id": "41a35bd9-3fff-47f6-b6a5-7daf60dfb653",
   "metadata": {},
   "source": [
    "<a id=\"загрузка\"></a>"
   ]
  },
  {
   "cell_type": "markdown",
   "id": "d4b2e915-1f4b-4f82-bb77-c6db701b3861",
   "metadata": {},
   "source": [
    "## Загрузка данных"
   ]
  },
  {
   "cell_type": "code",
   "execution_count": 1,
   "id": "2e426c64-fcee-41e7-9221-b50147067c44",
   "metadata": {},
   "outputs": [],
   "source": [
    "import pandas as pd\n",
    "import datetime as dt\n",
    "import numpy as np\n",
    "import seaborn as sns\n",
    "from matplotlib import pyplot as plt"
   ]
  },
  {
   "cell_type": "code",
   "execution_count": 2,
   "id": "45f68df5-0e2e-4a6e-8012-43323f8c19a5",
   "metadata": {},
   "outputs": [],
   "source": [
    "file = 'cohort.xlsx' # сформированные когорты\n",
    "file1 = 'final.xlsx'  # общие данные\n",
    "cohort = pd.read_excel(file)\n",
    "final = pd.read_excel(file1)"
   ]
  },
  {
   "cell_type": "code",
   "execution_count": 3,
   "id": "a66d84a9-7d51-4766-b257-e26ddf16ed47",
   "metadata": {},
   "outputs": [
    {
     "data": {
      "text/html": [
       "<div>\n",
       "<style scoped>\n",
       "    .dataframe tbody tr th:only-of-type {\n",
       "        vertical-align: middle;\n",
       "    }\n",
       "\n",
       "    .dataframe tbody tr th {\n",
       "        vertical-align: top;\n",
       "    }\n",
       "\n",
       "    .dataframe thead th {\n",
       "        text-align: right;\n",
       "    }\n",
       "</style>\n",
       "<table border=\"1\" class=\"dataframe\">\n",
       "  <thead>\n",
       "    <tr style=\"text-align: right;\">\n",
       "      <th></th>\n",
       "      <th>Месяц 1-й покупки по акции</th>\n",
       "      <th>Месяц транзакции</th>\n",
       "      <th>Количество клиентов</th>\n",
       "      <th>Количество операций</th>\n",
       "      <th>Оборот</th>\n",
       "    </tr>\n",
       "  </thead>\n",
       "  <tbody>\n",
       "    <tr>\n",
       "      <th>0</th>\n",
       "      <td>2022-12-01</td>\n",
       "      <td>2022-12-01</td>\n",
       "      <td>76</td>\n",
       "      <td>88</td>\n",
       "      <td>159798.17</td>\n",
       "    </tr>\n",
       "    <tr>\n",
       "      <th>1</th>\n",
       "      <td>2022-12-01</td>\n",
       "      <td>2023-01-01</td>\n",
       "      <td>38</td>\n",
       "      <td>69</td>\n",
       "      <td>61380.82</td>\n",
       "    </tr>\n",
       "    <tr>\n",
       "      <th>2</th>\n",
       "      <td>2022-12-01</td>\n",
       "      <td>2023-02-01</td>\n",
       "      <td>30</td>\n",
       "      <td>63</td>\n",
       "      <td>63381.82</td>\n",
       "    </tr>\n",
       "    <tr>\n",
       "      <th>3</th>\n",
       "      <td>2022-12-01</td>\n",
       "      <td>2023-03-01</td>\n",
       "      <td>24</td>\n",
       "      <td>60</td>\n",
       "      <td>59184.73</td>\n",
       "    </tr>\n",
       "    <tr>\n",
       "      <th>4</th>\n",
       "      <td>2022-12-01</td>\n",
       "      <td>2023-04-01</td>\n",
       "      <td>31</td>\n",
       "      <td>49</td>\n",
       "      <td>35948.07</td>\n",
       "    </tr>\n",
       "  </tbody>\n",
       "</table>\n",
       "</div>"
      ],
      "text/plain": [
       "  Месяц 1-й покупки по акции Месяц транзакции  Количество клиентов  \\\n",
       "0                 2022-12-01       2022-12-01                   76   \n",
       "1                 2022-12-01       2023-01-01                   38   \n",
       "2                 2022-12-01       2023-02-01                   30   \n",
       "3                 2022-12-01       2023-03-01                   24   \n",
       "4                 2022-12-01       2023-04-01                   31   \n",
       "\n",
       "   Количество операций     Оборот  \n",
       "0                   88  159798.17  \n",
       "1                   69   61380.82  \n",
       "2                   63   63381.82  \n",
       "3                   60   59184.73  \n",
       "4                   49   35948.07  "
      ]
     },
     "execution_count": 3,
     "metadata": {},
     "output_type": "execute_result"
    }
   ],
   "source": [
    "cohort.head()"
   ]
  },
  {
   "cell_type": "code",
   "execution_count": 4,
   "id": "bc22603d-8338-473f-901a-b2e27acba0a7",
   "metadata": {},
   "outputs": [
    {
     "data": {
      "text/html": [
       "<div>\n",
       "<style scoped>\n",
       "    .dataframe tbody tr th:only-of-type {\n",
       "        vertical-align: middle;\n",
       "    }\n",
       "\n",
       "    .dataframe tbody tr th {\n",
       "        vertical-align: top;\n",
       "    }\n",
       "\n",
       "    .dataframe thead th {\n",
       "        text-align: right;\n",
       "    }\n",
       "</style>\n",
       "<table border=\"1\" class=\"dataframe\">\n",
       "  <thead>\n",
       "    <tr style=\"text-align: right;\">\n",
       "      <th></th>\n",
       "      <th>Месяц транзакции</th>\n",
       "      <th>Количество уникальных клиентов-участников программы</th>\n",
       "      <th>Клиенты - участники акции в данном месяце</th>\n",
       "      <th>Количество операций по участникам программы</th>\n",
       "      <th>Транзакции в рамках акции</th>\n",
       "      <th>Сумма операций по участникам программы</th>\n",
       "      <th>Оборот в рамках акции</th>\n",
       "      <th>Держатели карты - не участники программы, кол-во карт</th>\n",
       "      <th>Количество операций</th>\n",
       "      <th>Сумма операций</th>\n",
       "    </tr>\n",
       "  </thead>\n",
       "  <tbody>\n",
       "    <tr>\n",
       "      <th>0</th>\n",
       "      <td>2022-12-01</td>\n",
       "      <td>243</td>\n",
       "      <td>76.0</td>\n",
       "      <td>88</td>\n",
       "      <td>79.0</td>\n",
       "      <td>159798.17</td>\n",
       "      <td>155296.97</td>\n",
       "      <td>NaN</td>\n",
       "      <td>NaN</td>\n",
       "      <td>NaN</td>\n",
       "    </tr>\n",
       "    <tr>\n",
       "      <th>1</th>\n",
       "      <td>2023-01-01</td>\n",
       "      <td>1111</td>\n",
       "      <td>331.0</td>\n",
       "      <td>688</td>\n",
       "      <td>416.0</td>\n",
       "      <td>903487.51</td>\n",
       "      <td>783119.96</td>\n",
       "      <td>78423.0</td>\n",
       "      <td>108541.0</td>\n",
       "      <td>7.179585e+07</td>\n",
       "    </tr>\n",
       "    <tr>\n",
       "      <th>2</th>\n",
       "      <td>2023-02-01</td>\n",
       "      <td>1141</td>\n",
       "      <td>363.0</td>\n",
       "      <td>801</td>\n",
       "      <td>463.0</td>\n",
       "      <td>1098824.29</td>\n",
       "      <td>962305.28</td>\n",
       "      <td>95180.0</td>\n",
       "      <td>133103.0</td>\n",
       "      <td>8.958793e+07</td>\n",
       "    </tr>\n",
       "    <tr>\n",
       "      <th>3</th>\n",
       "      <td>2023-03-01</td>\n",
       "      <td>1443</td>\n",
       "      <td>393.0</td>\n",
       "      <td>1001</td>\n",
       "      <td>502.0</td>\n",
       "      <td>1294297.42</td>\n",
       "      <td>1076526.62</td>\n",
       "      <td>116529.0</td>\n",
       "      <td>166947.0</td>\n",
       "      <td>1.085041e+08</td>\n",
       "    </tr>\n",
       "    <tr>\n",
       "      <th>4</th>\n",
       "      <td>2023-04-01</td>\n",
       "      <td>1284</td>\n",
       "      <td>NaN</td>\n",
       "      <td>584</td>\n",
       "      <td>NaN</td>\n",
       "      <td>542373.67</td>\n",
       "      <td>NaN</td>\n",
       "      <td>120930.0</td>\n",
       "      <td>169127.0</td>\n",
       "      <td>1.139308e+08</td>\n",
       "    </tr>\n",
       "    <tr>\n",
       "      <th>5</th>\n",
       "      <td>2023-05-01</td>\n",
       "      <td>1093</td>\n",
       "      <td>NaN</td>\n",
       "      <td>416</td>\n",
       "      <td>NaN</td>\n",
       "      <td>364880.71</td>\n",
       "      <td>NaN</td>\n",
       "      <td>122189.0</td>\n",
       "      <td>166559.0</td>\n",
       "      <td>1.106744e+08</td>\n",
       "    </tr>\n",
       "    <tr>\n",
       "      <th>6</th>\n",
       "      <td>2023-06-01</td>\n",
       "      <td>907</td>\n",
       "      <td>NaN</td>\n",
       "      <td>291</td>\n",
       "      <td>NaN</td>\n",
       "      <td>287492.29</td>\n",
       "      <td>NaN</td>\n",
       "      <td>129263.0</td>\n",
       "      <td>174102.0</td>\n",
       "      <td>1.221594e+08</td>\n",
       "    </tr>\n",
       "  </tbody>\n",
       "</table>\n",
       "</div>"
      ],
      "text/plain": [
       "  Месяц транзакции  Количество уникальных клиентов-участников программы  \\\n",
       "0       2022-12-01                                                243     \n",
       "1       2023-01-01                                               1111     \n",
       "2       2023-02-01                                               1141     \n",
       "3       2023-03-01                                               1443     \n",
       "4       2023-04-01                                               1284     \n",
       "5       2023-05-01                                               1093     \n",
       "6       2023-06-01                                                907     \n",
       "\n",
       "   Клиенты - участники акции в данном месяце  \\\n",
       "0                                       76.0   \n",
       "1                                      331.0   \n",
       "2                                      363.0   \n",
       "3                                      393.0   \n",
       "4                                        NaN   \n",
       "5                                        NaN   \n",
       "6                                        NaN   \n",
       "\n",
       "   Количество операций по участникам программы  Транзакции в рамках акции  \\\n",
       "0                                           88                       79.0   \n",
       "1                                          688                      416.0   \n",
       "2                                          801                      463.0   \n",
       "3                                         1001                      502.0   \n",
       "4                                          584                        NaN   \n",
       "5                                          416                        NaN   \n",
       "6                                          291                        NaN   \n",
       "\n",
       "   Сумма операций по участникам программы  Оборот в рамках акции  \\\n",
       "0                               159798.17              155296.97   \n",
       "1                               903487.51              783119.96   \n",
       "2                              1098824.29              962305.28   \n",
       "3                              1294297.42             1076526.62   \n",
       "4                               542373.67                    NaN   \n",
       "5                               364880.71                    NaN   \n",
       "6                               287492.29                    NaN   \n",
       "\n",
       "   Держатели карты - не участники программы, кол-во карт  Количество операций  \\\n",
       "0                                                NaN                      NaN   \n",
       "1                                            78423.0                 108541.0   \n",
       "2                                            95180.0                 133103.0   \n",
       "3                                           116529.0                 166947.0   \n",
       "4                                           120930.0                 169127.0   \n",
       "5                                           122189.0                 166559.0   \n",
       "6                                           129263.0                 174102.0   \n",
       "\n",
       "   Сумма операций  \n",
       "0             NaN  \n",
       "1    7.179585e+07  \n",
       "2    8.958793e+07  \n",
       "3    1.085041e+08  \n",
       "4    1.139308e+08  \n",
       "5    1.106744e+08  \n",
       "6    1.221594e+08  "
      ]
     },
     "execution_count": 4,
     "metadata": {},
     "output_type": "execute_result"
    }
   ],
   "source": [
    "final"
   ]
  },
  {
   "cell_type": "markdown",
   "id": "70a262c0-ddcd-4b2d-bed8-7eac672eeb13",
   "metadata": {},
   "source": [
    "[В начало](#начало)"
   ]
  },
  {
   "cell_type": "markdown",
   "id": "7fbed52c-d767-4386-883f-9ad53bff12a0",
   "metadata": {},
   "source": [
    "<a id=\"Лайфтайм\"></a>"
   ]
  },
  {
   "cell_type": "markdown",
   "id": "fa574b77-4b35-4c82-ac65-bc4ed478b013",
   "metadata": {},
   "source": [
    "## Лайфтайм"
   ]
  },
  {
   "cell_type": "markdown",
   "id": "d4d5f29e-ca4a-4ccb-b93b-68840df9efe8",
   "metadata": {},
   "source": [
    "<div style=\"border:solid black 2px; padding: 20px\">\n",
    "\n",
    "Вычисляем лайфтайм для когорт от месяца первой покупки.\n",
    "\n",
    "</div>"
   ]
  },
  {
   "cell_type": "code",
   "execution_count": 5,
   "id": "a3f979a0-abba-41a0-a8f3-a30d40c7f457",
   "metadata": {},
   "outputs": [
    {
     "data": {
      "text/html": [
       "<div>\n",
       "<style scoped>\n",
       "    .dataframe tbody tr th:only-of-type {\n",
       "        vertical-align: middle;\n",
       "    }\n",
       "\n",
       "    .dataframe tbody tr th {\n",
       "        vertical-align: top;\n",
       "    }\n",
       "\n",
       "    .dataframe thead th {\n",
       "        text-align: right;\n",
       "    }\n",
       "</style>\n",
       "<table border=\"1\" class=\"dataframe\">\n",
       "  <thead>\n",
       "    <tr style=\"text-align: right;\">\n",
       "      <th></th>\n",
       "      <th>Месяц 1-й покупки по акции</th>\n",
       "      <th>Месяц транзакции</th>\n",
       "      <th>Количество клиентов</th>\n",
       "      <th>Количество операций</th>\n",
       "      <th>Оборот</th>\n",
       "      <th>Лайфтайм</th>\n",
       "    </tr>\n",
       "  </thead>\n",
       "  <tbody>\n",
       "    <tr>\n",
       "      <th>0</th>\n",
       "      <td>2022-12-01</td>\n",
       "      <td>2022-12-01</td>\n",
       "      <td>76</td>\n",
       "      <td>88</td>\n",
       "      <td>159798.17</td>\n",
       "      <td>0</td>\n",
       "    </tr>\n",
       "    <tr>\n",
       "      <th>1</th>\n",
       "      <td>2022-12-01</td>\n",
       "      <td>2023-01-01</td>\n",
       "      <td>38</td>\n",
       "      <td>69</td>\n",
       "      <td>61380.82</td>\n",
       "      <td>1</td>\n",
       "    </tr>\n",
       "    <tr>\n",
       "      <th>2</th>\n",
       "      <td>2022-12-01</td>\n",
       "      <td>2023-02-01</td>\n",
       "      <td>30</td>\n",
       "      <td>63</td>\n",
       "      <td>63381.82</td>\n",
       "      <td>2</td>\n",
       "    </tr>\n",
       "    <tr>\n",
       "      <th>3</th>\n",
       "      <td>2022-12-01</td>\n",
       "      <td>2023-03-01</td>\n",
       "      <td>24</td>\n",
       "      <td>60</td>\n",
       "      <td>59184.73</td>\n",
       "      <td>3</td>\n",
       "    </tr>\n",
       "    <tr>\n",
       "      <th>4</th>\n",
       "      <td>2022-12-01</td>\n",
       "      <td>2023-04-01</td>\n",
       "      <td>31</td>\n",
       "      <td>49</td>\n",
       "      <td>35948.07</td>\n",
       "      <td>4</td>\n",
       "    </tr>\n",
       "    <tr>\n",
       "      <th>5</th>\n",
       "      <td>2022-12-01</td>\n",
       "      <td>2023-05-01</td>\n",
       "      <td>20</td>\n",
       "      <td>33</td>\n",
       "      <td>23940.52</td>\n",
       "      <td>5</td>\n",
       "    </tr>\n",
       "    <tr>\n",
       "      <th>6</th>\n",
       "      <td>2022-12-01</td>\n",
       "      <td>2023-06-01</td>\n",
       "      <td>15</td>\n",
       "      <td>19</td>\n",
       "      <td>18029.67</td>\n",
       "      <td>6</td>\n",
       "    </tr>\n",
       "    <tr>\n",
       "      <th>7</th>\n",
       "      <td>2023-01-01</td>\n",
       "      <td>2023-01-01</td>\n",
       "      <td>313</td>\n",
       "      <td>619</td>\n",
       "      <td>842106.69</td>\n",
       "      <td>0</td>\n",
       "    </tr>\n",
       "  </tbody>\n",
       "</table>\n",
       "</div>"
      ],
      "text/plain": [
       "  Месяц 1-й покупки по акции Месяц транзакции  Количество клиентов  \\\n",
       "0                 2022-12-01       2022-12-01                   76   \n",
       "1                 2022-12-01       2023-01-01                   38   \n",
       "2                 2022-12-01       2023-02-01                   30   \n",
       "3                 2022-12-01       2023-03-01                   24   \n",
       "4                 2022-12-01       2023-04-01                   31   \n",
       "5                 2022-12-01       2023-05-01                   20   \n",
       "6                 2022-12-01       2023-06-01                   15   \n",
       "7                 2023-01-01       2023-01-01                  313   \n",
       "\n",
       "   Количество операций     Оборот  Лайфтайм  \n",
       "0                   88  159798.17         0  \n",
       "1                   69   61380.82         1  \n",
       "2                   63   63381.82         2  \n",
       "3                   60   59184.73         3  \n",
       "4                   49   35948.07         4  \n",
       "5                   33   23940.52         5  \n",
       "6                   19   18029.67         6  \n",
       "7                  619  842106.69         0  "
      ]
     },
     "execution_count": 5,
     "metadata": {},
     "output_type": "execute_result"
    }
   ],
   "source": [
    "cohort['Лайфтайм'] = (cohort['Месяц транзакции'].dt.to_period('M')\n",
    "                     .sub(cohort['Месяц 1-й покупки по акции'].dt.to_period('M'))\n",
    "                     .apply(lambda x: x.n)\n",
    "                      )\n",
    "cohort.head(8)"
   ]
  },
  {
   "cell_type": "markdown",
   "id": "77d18583-32e3-448d-8d6f-37b668d9269f",
   "metadata": {},
   "source": [
    "[В начало](#начало)"
   ]
  },
  {
   "cell_type": "markdown",
   "id": "27074508-e38a-478c-80a7-82806d9771d1",
   "metadata": {},
   "source": [
    "<a id=\"Коэффициент_удержания\"></a>"
   ]
  },
  {
   "cell_type": "markdown",
   "id": "e2483d9a-77ca-42f2-a8dc-a37ea7ce72f6",
   "metadata": {},
   "source": [
    "## Retention Rate (Коэффициент удержания)"
   ]
  },
  {
   "cell_type": "markdown",
   "id": "21232ec7-15b0-4c91-8a71-bf090e150aea",
   "metadata": {},
   "source": [
    "<div style=\"border:solid black 2px; padding: 20px\">\n",
    "\n",
    "Строим таблицу удержания.\n",
    "\n",
    "</div>"
   ]
  },
  {
   "cell_type": "code",
   "execution_count": 6,
   "id": "a03eda4e-9edc-4641-a4b6-2b9d31490b3f",
   "metadata": {},
   "outputs": [],
   "source": [
    "cohort['Когорта'] = pd.to_datetime(cohort['Месяц 1-й покупки по акции']).dt.date"
   ]
  },
  {
   "cell_type": "code",
   "execution_count": 7,
   "id": "1ca246d3-9718-442b-b0e5-3f273b9b6045",
   "metadata": {},
   "outputs": [
    {
     "data": {
      "text/html": [
       "<div>\n",
       "<style scoped>\n",
       "    .dataframe tbody tr th:only-of-type {\n",
       "        vertical-align: middle;\n",
       "    }\n",
       "\n",
       "    .dataframe tbody tr th {\n",
       "        vertical-align: top;\n",
       "    }\n",
       "\n",
       "    .dataframe thead th {\n",
       "        text-align: right;\n",
       "    }\n",
       "</style>\n",
       "<table border=\"1\" class=\"dataframe\">\n",
       "  <thead>\n",
       "    <tr style=\"text-align: right;\">\n",
       "      <th></th>\n",
       "      <th>Размер когорты</th>\n",
       "      <th>0</th>\n",
       "      <th>1</th>\n",
       "      <th>2</th>\n",
       "      <th>3</th>\n",
       "      <th>4</th>\n",
       "      <th>5</th>\n",
       "      <th>6</th>\n",
       "    </tr>\n",
       "    <tr>\n",
       "      <th>Когорта</th>\n",
       "      <th></th>\n",
       "      <th></th>\n",
       "      <th></th>\n",
       "      <th></th>\n",
       "      <th></th>\n",
       "      <th></th>\n",
       "      <th></th>\n",
       "      <th></th>\n",
       "    </tr>\n",
       "  </thead>\n",
       "  <tbody>\n",
       "    <tr>\n",
       "      <th>2022-12-01</th>\n",
       "      <td>76</td>\n",
       "      <td>76.0</td>\n",
       "      <td>38.0</td>\n",
       "      <td>30.0</td>\n",
       "      <td>24.0</td>\n",
       "      <td>31.0</td>\n",
       "      <td>20.0</td>\n",
       "      <td>15.0</td>\n",
       "    </tr>\n",
       "    <tr>\n",
       "      <th>2023-01-01</th>\n",
       "      <td>313</td>\n",
       "      <td>313.0</td>\n",
       "      <td>137.0</td>\n",
       "      <td>116.0</td>\n",
       "      <td>101.0</td>\n",
       "      <td>82.0</td>\n",
       "      <td>64.0</td>\n",
       "      <td>0.0</td>\n",
       "    </tr>\n",
       "    <tr>\n",
       "      <th>2023-02-01</th>\n",
       "      <td>266</td>\n",
       "      <td>266.0</td>\n",
       "      <td>96.0</td>\n",
       "      <td>84.0</td>\n",
       "      <td>70.0</td>\n",
       "      <td>56.0</td>\n",
       "      <td>0.0</td>\n",
       "      <td>0.0</td>\n",
       "    </tr>\n",
       "    <tr>\n",
       "      <th>2023-03-01</th>\n",
       "      <td>274</td>\n",
       "      <td>274.0</td>\n",
       "      <td>89.0</td>\n",
       "      <td>67.0</td>\n",
       "      <td>47.0</td>\n",
       "      <td>0.0</td>\n",
       "      <td>0.0</td>\n",
       "      <td>0.0</td>\n",
       "    </tr>\n",
       "  </tbody>\n",
       "</table>\n",
       "</div>"
      ],
      "text/plain": [
       "            Размер когорты      0      1      2      3     4     5     6\n",
       "Когорта                                                                 \n",
       "2022-12-01              76   76.0   38.0   30.0   24.0  31.0  20.0  15.0\n",
       "2023-01-01             313  313.0  137.0  116.0  101.0  82.0  64.0   0.0\n",
       "2023-02-01             266  266.0   96.0   84.0   70.0  56.0   0.0   0.0\n",
       "2023-03-01             274  274.0   89.0   67.0   47.0   0.0   0.0   0.0"
      ]
     },
     "execution_count": 7,
     "metadata": {},
     "output_type": "execute_result"
    }
   ],
   "source": [
    "retention = cohort.pivot_table(index=['Когорта'], columns='Лайфтайм', values='Количество клиентов')\n",
    "\n",
    "cohort_sizes = (cohort.groupby('Когорта')\n",
    "                      .agg({'Количество клиентов': 'first'})\n",
    "                      .rename(columns={'Количество клиентов': 'Размер когорты'}))\n",
    "\n",
    "retention = cohort_sizes.merge(retention, on='Когорта', how='left').fillna(0)\n",
    "retention"
   ]
  },
  {
   "cell_type": "code",
   "execution_count": 8,
   "id": "d7a5303f-3bc8-42ef-abfb-ab027b26cce4",
   "metadata": {},
   "outputs": [
    {
     "data": {
      "text/html": [
       "<div>\n",
       "<style scoped>\n",
       "    .dataframe tbody tr th:only-of-type {\n",
       "        vertical-align: middle;\n",
       "    }\n",
       "\n",
       "    .dataframe tbody tr th {\n",
       "        vertical-align: top;\n",
       "    }\n",
       "\n",
       "    .dataframe thead th {\n",
       "        text-align: right;\n",
       "    }\n",
       "</style>\n",
       "<table border=\"1\" class=\"dataframe\">\n",
       "  <thead>\n",
       "    <tr style=\"text-align: right;\">\n",
       "      <th></th>\n",
       "      <th>0</th>\n",
       "      <th>1</th>\n",
       "      <th>2</th>\n",
       "      <th>3</th>\n",
       "      <th>4</th>\n",
       "      <th>5</th>\n",
       "      <th>6</th>\n",
       "    </tr>\n",
       "    <tr>\n",
       "      <th>Когорта</th>\n",
       "      <th></th>\n",
       "      <th></th>\n",
       "      <th></th>\n",
       "      <th></th>\n",
       "      <th></th>\n",
       "      <th></th>\n",
       "      <th></th>\n",
       "    </tr>\n",
       "  </thead>\n",
       "  <tbody>\n",
       "    <tr>\n",
       "      <th>2022-12-01</th>\n",
       "      <td>1.0</td>\n",
       "      <td>0.50</td>\n",
       "      <td>0.39</td>\n",
       "      <td>0.32</td>\n",
       "      <td>0.41</td>\n",
       "      <td>0.26</td>\n",
       "      <td>0.2</td>\n",
       "    </tr>\n",
       "    <tr>\n",
       "      <th>2023-01-01</th>\n",
       "      <td>1.0</td>\n",
       "      <td>0.44</td>\n",
       "      <td>0.37</td>\n",
       "      <td>0.32</td>\n",
       "      <td>0.26</td>\n",
       "      <td>0.20</td>\n",
       "      <td>0.0</td>\n",
       "    </tr>\n",
       "    <tr>\n",
       "      <th>2023-02-01</th>\n",
       "      <td>1.0</td>\n",
       "      <td>0.36</td>\n",
       "      <td>0.32</td>\n",
       "      <td>0.26</td>\n",
       "      <td>0.21</td>\n",
       "      <td>0.00</td>\n",
       "      <td>0.0</td>\n",
       "    </tr>\n",
       "    <tr>\n",
       "      <th>2023-03-01</th>\n",
       "      <td>1.0</td>\n",
       "      <td>0.32</td>\n",
       "      <td>0.24</td>\n",
       "      <td>0.17</td>\n",
       "      <td>0.00</td>\n",
       "      <td>0.00</td>\n",
       "      <td>0.0</td>\n",
       "    </tr>\n",
       "  </tbody>\n",
       "</table>\n",
       "</div>"
      ],
      "text/plain": [
       "              0     1     2     3     4     5    6\n",
       "Когорта                                           \n",
       "2022-12-01  1.0  0.50  0.39  0.32  0.41  0.26  0.2\n",
       "2023-01-01  1.0  0.44  0.37  0.32  0.26  0.20  0.0\n",
       "2023-02-01  1.0  0.36  0.32  0.26  0.21  0.00  0.0\n",
       "2023-03-01  1.0  0.32  0.24  0.17  0.00  0.00  0.0"
      ]
     },
     "execution_count": 8,
     "metadata": {},
     "output_type": "execute_result"
    }
   ],
   "source": [
    "# делим данные таблицы удержания на размеры когорт\n",
    "\n",
    "retention_share = retention.div(retention['Размер когорты'], axis=0)\\\n",
    "                           .drop(columns=['Размер когорты']).round(2)\n",
    "retention_share"
   ]
  },
  {
   "cell_type": "code",
   "execution_count": 9,
   "id": "37071d77-86b3-4f5b-91e1-54d3d0675b83",
   "metadata": {},
   "outputs": [
    {
     "data": {
      "image/png": "[encoded data removed]",
      "text/plain": [
       "<Figure size 1000x500 with 2 Axes>"
      ]
     },
     "metadata": {},
     "output_type": "display_data"
    }
   ],
   "source": [
    "# строим хитмэп без нулевого лайфтайма\n",
    "\n",
    "plt.figure(figsize=(10, 5)) \n",
    "sns.heatmap(\n",
    "    retention_share.drop(0, axis=1),  # удаляем лишние столбцы\n",
    "    annot=True,  # включаем подписи\n",
    "    fmt='.2%',  # переводим значения в проценты\n",
    ")\n",
    "plt.title('Тепловая карта удержания')\n",
    "plt.show()"
   ]
  },
  {
   "cell_type": "code",
   "execution_count": 10,
   "id": "fe91064e-e7aa-4e65-be86-2dd5550ee792",
   "metadata": {},
   "outputs": [
    {
     "data": {
      "text/html": [
       "<div>\n",
       "<style scoped>\n",
       "    .dataframe tbody tr th:only-of-type {\n",
       "        vertical-align: middle;\n",
       "    }\n",
       "\n",
       "    .dataframe tbody tr th {\n",
       "        vertical-align: top;\n",
       "    }\n",
       "\n",
       "    .dataframe thead th {\n",
       "        text-align: right;\n",
       "    }\n",
       "</style>\n",
       "<table border=\"1\" class=\"dataframe\">\n",
       "  <thead>\n",
       "    <tr style=\"text-align: right;\">\n",
       "      <th>Когорта</th>\n",
       "      <th>2022-12-01</th>\n",
       "      <th>2023-01-01</th>\n",
       "      <th>2023-02-01</th>\n",
       "      <th>2023-03-01</th>\n",
       "    </tr>\n",
       "  </thead>\n",
       "  <tbody>\n",
       "    <tr>\n",
       "      <th>0</th>\n",
       "      <td>1.00</td>\n",
       "      <td>1.00</td>\n",
       "      <td>1.00</td>\n",
       "      <td>1.00</td>\n",
       "    </tr>\n",
       "    <tr>\n",
       "      <th>1</th>\n",
       "      <td>0.50</td>\n",
       "      <td>0.44</td>\n",
       "      <td>0.36</td>\n",
       "      <td>0.32</td>\n",
       "    </tr>\n",
       "    <tr>\n",
       "      <th>2</th>\n",
       "      <td>0.39</td>\n",
       "      <td>0.37</td>\n",
       "      <td>0.32</td>\n",
       "      <td>0.24</td>\n",
       "    </tr>\n",
       "    <tr>\n",
       "      <th>3</th>\n",
       "      <td>0.32</td>\n",
       "      <td>0.32</td>\n",
       "      <td>0.26</td>\n",
       "      <td>0.17</td>\n",
       "    </tr>\n",
       "    <tr>\n",
       "      <th>4</th>\n",
       "      <td>0.41</td>\n",
       "      <td>0.26</td>\n",
       "      <td>0.21</td>\n",
       "      <td>0.00</td>\n",
       "    </tr>\n",
       "    <tr>\n",
       "      <th>5</th>\n",
       "      <td>0.26</td>\n",
       "      <td>0.20</td>\n",
       "      <td>0.00</td>\n",
       "      <td>0.00</td>\n",
       "    </tr>\n",
       "    <tr>\n",
       "      <th>6</th>\n",
       "      <td>0.20</td>\n",
       "      <td>0.00</td>\n",
       "      <td>0.00</td>\n",
       "      <td>0.00</td>\n",
       "    </tr>\n",
       "  </tbody>\n",
       "</table>\n",
       "</div>"
      ],
      "text/plain": [
       "Когорта  2022-12-01  2023-01-01  2023-02-01  2023-03-01\n",
       "0              1.00        1.00        1.00        1.00\n",
       "1              0.50        0.44        0.36        0.32\n",
       "2              0.39        0.37        0.32        0.24\n",
       "3              0.32        0.32        0.26        0.17\n",
       "4              0.41        0.26        0.21        0.00\n",
       "5              0.26        0.20        0.00        0.00\n",
       "6              0.20        0.00        0.00        0.00"
      ]
     },
     "execution_count": 10,
     "metadata": {},
     "output_type": "execute_result"
    }
   ],
   "source": [
    "# с помощью атрибута T: столбцы становятся строками, а строки - столбцами\n",
    "\n",
    "retention_line = retention_share.T.round(2)\n",
    "retention_line"
   ]
  },
  {
   "cell_type": "code",
   "execution_count": 11,
   "id": "2a1b0efc-963c-4655-822a-a591091f00d5",
   "metadata": {},
   "outputs": [
    {
     "data": {
      "image/png": "[encoded data removed]",
      "text/plain": [
       "<Figure size 1500x500 with 1 Axes>"
      ]
     },
     "metadata": {},
     "output_type": "display_data"
    }
   ],
   "source": [
    "# строим кривые удержания на 2,3,4 месяцы\n",
    "\n",
    "report = retention_share.drop([0,4,5,6], axis=1)\n",
    "\n",
    "report.T.plot(\n",
    "    grid=True,  # добавляем сетку\n",
    "    xticks=list(report.columns.values),  # отметки на оси X — названия колонок\n",
    "    figsize=(15, 5),  # размер графика\n",
    ")\n",
    "plt.xlabel('Лайфтайм')  # название оси X\n",
    "plt.title('Кривые удержания по месяцу привлечения')  # название графика\n",
    "plt.show()"
   ]
  },
  {
   "cell_type": "markdown",
   "id": "5bfa6d4a-2d41-4a68-b08c-5b0946649026",
   "metadata": {},
   "source": [
    "<div style=\"border:solid green 2px; padding: 20px\">\n",
    "\n",
    "Самое низкое удержание клиентов в когорте март2023, март был последний месяц действия акции.\r\n",
    "\r\n",
    "В когорте дек2022 самый высокий показатель удержания, но и самое низкое значение по количеству клиентов.\n",
    "\n",
    "</div>"
   ]
  },
  {
   "cell_type": "markdown",
   "id": "21310d87-f7eb-49eb-bae2-5ed37981359f",
   "metadata": {},
   "source": [
    "[В начало](#начало)"
   ]
  },
  {
   "cell_type": "markdown",
   "id": "e1b11f5c-25c9-4edc-96b6-3933d929a4f9",
   "metadata": {},
   "source": [
    "<a id=\"коэффициент_отскока\"></a>"
   ]
  },
  {
   "cell_type": "markdown",
   "id": "d8f3d2d8-5230-4b04-a327-b3d5ff26ea72",
   "metadata": {},
   "source": [
    "## Churn Rate (Коэффициент «отскока»)"
   ]
  },
  {
   "cell_type": "markdown",
   "id": "dd91ed72-aef6-42e6-aacc-f7420013ee14",
   "metadata": {},
   "source": [
    "<div style=\"border:solid black 2px; padding: 20px\">\n",
    "\n",
    "Строим тепловую карту для коэффициента «отскока».\n",
    "\n",
    "</div>"
   ]
  },
  {
   "cell_type": "code",
   "execution_count": 12,
   "id": "23587743-8681-4f98-ae1e-72db154d2566",
   "metadata": {},
   "outputs": [
    {
     "data": {
      "text/html": [
       "<div>\n",
       "<style scoped>\n",
       "    .dataframe tbody tr th:only-of-type {\n",
       "        vertical-align: middle;\n",
       "    }\n",
       "\n",
       "    .dataframe tbody tr th {\n",
       "        vertical-align: top;\n",
       "    }\n",
       "\n",
       "    .dataframe thead th {\n",
       "        text-align: right;\n",
       "    }\n",
       "</style>\n",
       "<table border=\"1\" class=\"dataframe\">\n",
       "  <thead>\n",
       "    <tr style=\"text-align: right;\">\n",
       "      <th></th>\n",
       "      <th>Размер когорты</th>\n",
       "      <th>0</th>\n",
       "      <th>1</th>\n",
       "      <th>2</th>\n",
       "      <th>3</th>\n",
       "      <th>4</th>\n",
       "      <th>5</th>\n",
       "      <th>6</th>\n",
       "    </tr>\n",
       "    <tr>\n",
       "      <th>Когорта</th>\n",
       "      <th></th>\n",
       "      <th></th>\n",
       "      <th></th>\n",
       "      <th></th>\n",
       "      <th></th>\n",
       "      <th></th>\n",
       "      <th></th>\n",
       "      <th></th>\n",
       "    </tr>\n",
       "  </thead>\n",
       "  <tbody>\n",
       "    <tr>\n",
       "      <th>2022-12-01</th>\n",
       "      <td>76</td>\n",
       "      <td>76.0</td>\n",
       "      <td>38.0</td>\n",
       "      <td>30.0</td>\n",
       "      <td>24.0</td>\n",
       "      <td>31.0</td>\n",
       "      <td>20.0</td>\n",
       "      <td>15.0</td>\n",
       "    </tr>\n",
       "    <tr>\n",
       "      <th>2023-01-01</th>\n",
       "      <td>313</td>\n",
       "      <td>313.0</td>\n",
       "      <td>137.0</td>\n",
       "      <td>116.0</td>\n",
       "      <td>101.0</td>\n",
       "      <td>82.0</td>\n",
       "      <td>64.0</td>\n",
       "      <td>0.0</td>\n",
       "    </tr>\n",
       "    <tr>\n",
       "      <th>2023-02-01</th>\n",
       "      <td>266</td>\n",
       "      <td>266.0</td>\n",
       "      <td>96.0</td>\n",
       "      <td>84.0</td>\n",
       "      <td>70.0</td>\n",
       "      <td>56.0</td>\n",
       "      <td>0.0</td>\n",
       "      <td>0.0</td>\n",
       "    </tr>\n",
       "    <tr>\n",
       "      <th>2023-03-01</th>\n",
       "      <td>274</td>\n",
       "      <td>274.0</td>\n",
       "      <td>89.0</td>\n",
       "      <td>67.0</td>\n",
       "      <td>47.0</td>\n",
       "      <td>0.0</td>\n",
       "      <td>0.0</td>\n",
       "      <td>0.0</td>\n",
       "    </tr>\n",
       "  </tbody>\n",
       "</table>\n",
       "</div>"
      ],
      "text/plain": [
       "            Размер когорты      0      1      2      3     4     5     6\n",
       "Когорта                                                                 \n",
       "2022-12-01              76   76.0   38.0   30.0   24.0  31.0  20.0  15.0\n",
       "2023-01-01             313  313.0  137.0  116.0  101.0  82.0  64.0   0.0\n",
       "2023-02-01             266  266.0   96.0   84.0   70.0  56.0   0.0   0.0\n",
       "2023-03-01             274  274.0   89.0   67.0   47.0   0.0   0.0   0.0"
      ]
     },
     "execution_count": 12,
     "metadata": {},
     "output_type": "execute_result"
    }
   ],
   "source": [
    "retention"
   ]
  },
  {
   "cell_type": "code",
   "execution_count": 13,
   "id": "4dc79c92-c552-4411-b8fa-ca208d20d36d",
   "metadata": {},
   "outputs": [
    {
     "data": {
      "text/html": [
       "<div>\n",
       "<style scoped>\n",
       "    .dataframe tbody tr th:only-of-type {\n",
       "        vertical-align: middle;\n",
       "    }\n",
       "\n",
       "    .dataframe tbody tr th {\n",
       "        vertical-align: top;\n",
       "    }\n",
       "\n",
       "    .dataframe thead th {\n",
       "        text-align: right;\n",
       "    }\n",
       "</style>\n",
       "<table border=\"1\" class=\"dataframe\">\n",
       "  <thead>\n",
       "    <tr style=\"text-align: right;\">\n",
       "      <th></th>\n",
       "      <th>1</th>\n",
       "      <th>2</th>\n",
       "      <th>3</th>\n",
       "      <th>4</th>\n",
       "      <th>5</th>\n",
       "      <th>6</th>\n",
       "    </tr>\n",
       "    <tr>\n",
       "      <th>Когорта</th>\n",
       "      <th></th>\n",
       "      <th></th>\n",
       "      <th></th>\n",
       "      <th></th>\n",
       "      <th></th>\n",
       "      <th></th>\n",
       "    </tr>\n",
       "  </thead>\n",
       "  <tbody>\n",
       "    <tr>\n",
       "      <th>2022-12-01</th>\n",
       "      <td>0.50</td>\n",
       "      <td>0.21</td>\n",
       "      <td>0.20</td>\n",
       "      <td>-0.29</td>\n",
       "      <td>0.35</td>\n",
       "      <td>0.25</td>\n",
       "    </tr>\n",
       "    <tr>\n",
       "      <th>2023-01-01</th>\n",
       "      <td>0.56</td>\n",
       "      <td>0.15</td>\n",
       "      <td>0.13</td>\n",
       "      <td>0.19</td>\n",
       "      <td>0.22</td>\n",
       "      <td>0.00</td>\n",
       "    </tr>\n",
       "    <tr>\n",
       "      <th>2023-02-01</th>\n",
       "      <td>0.64</td>\n",
       "      <td>0.12</td>\n",
       "      <td>0.17</td>\n",
       "      <td>0.20</td>\n",
       "      <td>0.00</td>\n",
       "      <td>0.00</td>\n",
       "    </tr>\n",
       "    <tr>\n",
       "      <th>2023-03-01</th>\n",
       "      <td>0.68</td>\n",
       "      <td>0.25</td>\n",
       "      <td>0.30</td>\n",
       "      <td>0.00</td>\n",
       "      <td>0.00</td>\n",
       "      <td>0.00</td>\n",
       "    </tr>\n",
       "  </tbody>\n",
       "</table>\n",
       "</div>"
      ],
      "text/plain": [
       "               1     2     3     4     5     6\n",
       "Когорта                                       \n",
       "2022-12-01  0.50  0.21  0.20 -0.29  0.35  0.25\n",
       "2023-01-01  0.56  0.15  0.13  0.19  0.22  0.00\n",
       "2023-02-01  0.64  0.12  0.17  0.20  0.00  0.00\n",
       "2023-03-01  0.68  0.25  0.30  0.00  0.00  0.00"
      ]
     },
     "execution_count": 13,
     "metadata": {},
     "output_type": "execute_result"
    }
   ],
   "source": [
    "churn = (1-(retention / retention.shift(axis=1)))\\\n",
    "        .drop(columns=['Размер когорты', 0]).fillna(0).round(2)\n",
    "\n",
    "churn = churn.replace(1,0)\n",
    "churn"
   ]
  },
  {
   "cell_type": "code",
   "execution_count": 14,
   "id": "cdda4698-b510-4cef-bfc5-87444b5cb860",
   "metadata": {},
   "outputs": [
    {
     "data": {
      "image/png": "[encoded data removed]",
      "text/plain": [
       "<Figure size 1000x500 with 2 Axes>"
      ]
     },
     "metadata": {},
     "output_type": "display_data"
    }
   ],
   "source": [
    "plt.figure(figsize=(10, 5))\n",
    "sns.heatmap(\n",
    "    churn, \n",
    "    annot=True,  # включаем подписи\n",
    "    fmt='.2%',  # переводим значения в проценты\n",
    ")\n",
    "plt.title('Тепловая карта \"отскока\"') \n",
    "plt.show()"
   ]
  },
  {
   "cell_type": "markdown",
   "id": "2af09e5c-e546-4d79-a143-f97ad26370ec",
   "metadata": {},
   "source": [
    "<div style=\"border:solid green 2px; padding: 20px\">\n",
    "\n",
    "Самый высокий коэффициент «отскока» на второй месяц покупки.\r\n",
    "\r\n",
    "У когорты дек2022 коэффициент «отскока» на 5й месяц отрицательный, т.е. клиенты вернулись, предположительно, могла быть сделана некая рассылка по данной базе клиентов.\n",
    "\n",
    "</div>"
   ]
  },
  {
   "cell_type": "markdown",
   "id": "0449de12-556a-4c03-b664-271bbc33bd31",
   "metadata": {},
   "source": [
    "[В начало](#начало)"
   ]
  },
  {
   "cell_type": "markdown",
   "id": "c48ced50-053e-439c-a7ce-65c269656ad6",
   "metadata": {},
   "source": [
    "<a id=\"Частота_транзакций\"></a>"
   ]
  },
  {
   "cell_type": "markdown",
   "id": "01e7ba50-c9d7-469d-af82-d38a58097159",
   "metadata": {},
   "source": [
    "## АРС (Частота транзакций)"
   ]
  },
  {
   "cell_type": "markdown",
   "id": "910a32bb-ff46-4797-98d2-cf978dc37ea4",
   "metadata": {},
   "source": [
    "<div style=\"border:solid black 2px; padding: 20px\">\n",
    "\n",
    "Рассчитаем частоту операций клиентами по месяцам.\n",
    "\n",
    "</div>"
   ]
  },
  {
   "cell_type": "code",
   "execution_count": 15,
   "id": "0facb96a-655c-4722-8904-a757d7a1951b",
   "metadata": {},
   "outputs": [
    {
     "data": {
      "text/html": [
       "<div>\n",
       "<style scoped>\n",
       "    .dataframe tbody tr th:only-of-type {\n",
       "        vertical-align: middle;\n",
       "    }\n",
       "\n",
       "    .dataframe tbody tr th {\n",
       "        vertical-align: top;\n",
       "    }\n",
       "\n",
       "    .dataframe thead th {\n",
       "        text-align: right;\n",
       "    }\n",
       "</style>\n",
       "<table border=\"1\" class=\"dataframe\">\n",
       "  <thead>\n",
       "    <tr style=\"text-align: right;\">\n",
       "      <th></th>\n",
       "      <th>Месяц транзакции</th>\n",
       "      <th>Частота транзакций в рамках акции</th>\n",
       "      <th>Частота транзакций по участникам программы</th>\n",
       "      <th>Частота транзакций Держатели карты</th>\n",
       "    </tr>\n",
       "  </thead>\n",
       "  <tbody>\n",
       "    <tr>\n",
       "      <th>0</th>\n",
       "      <td>2022-12-01</td>\n",
       "      <td>1.0</td>\n",
       "      <td>0.4</td>\n",
       "      <td></td>\n",
       "    </tr>\n",
       "    <tr>\n",
       "      <th>1</th>\n",
       "      <td>2023-01-01</td>\n",
       "      <td>1.3</td>\n",
       "      <td>0.6</td>\n",
       "      <td>1.4</td>\n",
       "    </tr>\n",
       "    <tr>\n",
       "      <th>2</th>\n",
       "      <td>2023-02-01</td>\n",
       "      <td>1.3</td>\n",
       "      <td>0.7</td>\n",
       "      <td>1.4</td>\n",
       "    </tr>\n",
       "    <tr>\n",
       "      <th>3</th>\n",
       "      <td>2023-03-01</td>\n",
       "      <td>1.3</td>\n",
       "      <td>0.7</td>\n",
       "      <td>1.4</td>\n",
       "    </tr>\n",
       "    <tr>\n",
       "      <th>4</th>\n",
       "      <td>2023-04-01</td>\n",
       "      <td></td>\n",
       "      <td>0.5</td>\n",
       "      <td>1.4</td>\n",
       "    </tr>\n",
       "    <tr>\n",
       "      <th>5</th>\n",
       "      <td>2023-05-01</td>\n",
       "      <td></td>\n",
       "      <td>0.4</td>\n",
       "      <td>1.4</td>\n",
       "    </tr>\n",
       "    <tr>\n",
       "      <th>6</th>\n",
       "      <td>2023-06-01</td>\n",
       "      <td></td>\n",
       "      <td>0.3</td>\n",
       "      <td>1.3</td>\n",
       "    </tr>\n",
       "  </tbody>\n",
       "</table>\n",
       "</div>"
      ],
      "text/plain": [
       "  Месяц транзакции Частота транзакций в рамках акции  \\\n",
       "0       2022-12-01                               1.0   \n",
       "1       2023-01-01                               1.3   \n",
       "2       2023-02-01                               1.3   \n",
       "3       2023-03-01                               1.3   \n",
       "4       2023-04-01                                     \n",
       "5       2023-05-01                                     \n",
       "6       2023-06-01                                     \n",
       "\n",
       "   Частота транзакций по участникам программы  \\\n",
       "0                                         0.4   \n",
       "1                                         0.6   \n",
       "2                                         0.7   \n",
       "3                                         0.7   \n",
       "4                                         0.5   \n",
       "5                                         0.4   \n",
       "6                                         0.3   \n",
       "\n",
       "  Частота транзакций Держатели карты  \n",
       "0                                     \n",
       "1                                1.4  \n",
       "2                                1.4  \n",
       "3                                1.4  \n",
       "4                                1.4  \n",
       "5                                1.4  \n",
       "6                                1.3  "
      ]
     },
     "execution_count": 15,
     "metadata": {},
     "output_type": "execute_result"
    }
   ],
   "source": [
    "final['Частота транзакций в рамках акции'] = round(final['Транзакции в рамках акции']\n",
    "                                            /final['Клиенты - участники акции в данном месяце'], 1)\n",
    "\n",
    "final['Частота транзакций по участникам программы'] = round(final['Количество операций по участникам программы']\n",
    "                                                    /final['Количество уникальных клиентов-участников программы'], 1)\n",
    "\n",
    "final['Частота транзакций Держатели карты'] = round(final['Количество операций']\n",
    "                                            /final['Держатели карты - не участники программы, кол-во карт'], 1)\n",
    "\n",
    "final[['Месяц транзакции', 'Частота транзакций в рамках акции',\n",
    "       'Частота транзакций по участникам программы', 'Частота транзакций Держатели карты']]\\\n",
    "       .fillna(' ')"
   ]
  },
  {
   "cell_type": "code",
   "execution_count": 16,
   "id": "bf1e580f-4de9-4931-b8c6-c4bf817d604c",
   "metadata": {},
   "outputs": [],
   "source": [
    "cohort['Частота транзакций'] = round(cohort['Количество операций'] / cohort['Количество клиентов'], 1)"
   ]
  },
  {
   "cell_type": "code",
   "execution_count": 17,
   "id": "9f44c576-0fb8-43cb-8aee-a06277341a33",
   "metadata": {},
   "outputs": [
    {
     "data": {
      "text/html": [
       "<div>\n",
       "<style scoped>\n",
       "    .dataframe tbody tr th:only-of-type {\n",
       "        vertical-align: middle;\n",
       "    }\n",
       "\n",
       "    .dataframe tbody tr th {\n",
       "        vertical-align: top;\n",
       "    }\n",
       "\n",
       "    .dataframe thead th {\n",
       "        text-align: right;\n",
       "    }\n",
       "</style>\n",
       "<table border=\"1\" class=\"dataframe\">\n",
       "  <thead>\n",
       "    <tr style=\"text-align: right;\">\n",
       "      <th>Лайфтайм</th>\n",
       "      <th>0</th>\n",
       "      <th>1</th>\n",
       "      <th>2</th>\n",
       "      <th>3</th>\n",
       "      <th>4</th>\n",
       "      <th>5</th>\n",
       "      <th>6</th>\n",
       "    </tr>\n",
       "    <tr>\n",
       "      <th>Когорта</th>\n",
       "      <th></th>\n",
       "      <th></th>\n",
       "      <th></th>\n",
       "      <th></th>\n",
       "      <th></th>\n",
       "      <th></th>\n",
       "      <th></th>\n",
       "    </tr>\n",
       "  </thead>\n",
       "  <tbody>\n",
       "    <tr>\n",
       "      <th>2022-12-01</th>\n",
       "      <td>1.2</td>\n",
       "      <td>1.8</td>\n",
       "      <td>2.1</td>\n",
       "      <td>2.5</td>\n",
       "      <td>1.6</td>\n",
       "      <td>1.6</td>\n",
       "      <td>1.3</td>\n",
       "    </tr>\n",
       "    <tr>\n",
       "      <th>2023-01-01</th>\n",
       "      <td>2.0</td>\n",
       "      <td>2.0</td>\n",
       "      <td>2.3</td>\n",
       "      <td>2.1</td>\n",
       "      <td>1.8</td>\n",
       "      <td>1.8</td>\n",
       "      <td>0.0</td>\n",
       "    </tr>\n",
       "    <tr>\n",
       "      <th>2023-02-01</th>\n",
       "      <td>1.7</td>\n",
       "      <td>1.8</td>\n",
       "      <td>1.9</td>\n",
       "      <td>1.7</td>\n",
       "      <td>1.5</td>\n",
       "      <td>0.0</td>\n",
       "      <td>0.0</td>\n",
       "    </tr>\n",
       "    <tr>\n",
       "      <th>2023-03-01</th>\n",
       "      <td>1.9</td>\n",
       "      <td>1.9</td>\n",
       "      <td>1.7</td>\n",
       "      <td>1.6</td>\n",
       "      <td>0.0</td>\n",
       "      <td>0.0</td>\n",
       "      <td>0.0</td>\n",
       "    </tr>\n",
       "  </tbody>\n",
       "</table>\n",
       "</div>"
      ],
      "text/plain": [
       "Лайфтайм      0    1    2    3    4    5    6\n",
       "Когорта                                      \n",
       "2022-12-01  1.2  1.8  2.1  2.5  1.6  1.6  1.3\n",
       "2023-01-01  2.0  2.0  2.3  2.1  1.8  1.8  0.0\n",
       "2023-02-01  1.7  1.8  1.9  1.7  1.5  0.0  0.0\n",
       "2023-03-01  1.9  1.9  1.7  1.6  0.0  0.0  0.0"
      ]
     },
     "execution_count": 17,
     "metadata": {},
     "output_type": "execute_result"
    }
   ],
   "source": [
    "apc = cohort.pivot_table(index=['Когорта'], columns='Лайфтайм', values='Частота транзакций').fillna(0)\n",
    "apc"
   ]
  },
  {
   "cell_type": "code",
   "execution_count": 18,
   "id": "ffa9dc90-a7ef-4ded-911d-1532f31e4841",
   "metadata": {},
   "outputs": [
    {
     "data": {
      "image/png": "[encoded data removed]",
      "text/plain": [
       "<Figure size 1000x400 with 1 Axes>"
      ]
     },
     "metadata": {},
     "output_type": "display_data"
    }
   ],
   "source": [
    "plt.figure(figsize=(10, 4))\n",
    "sns.barplot(data=cohort, x='Когорта', y='Частота транзакций', hue='Лайфтайм')\n",
    "plt.title('Частота транзакций по когортам')\n",
    "plt.show()"
   ]
  },
  {
   "cell_type": "markdown",
   "id": "8fb1c5d3-f7d4-4519-8f62-7d1ac0899fde",
   "metadata": {},
   "source": [
    "<div style=\"border:solid green 2px; padding: 20px\">\n",
    "\n",
    "Частота транзакций в рамках акции выше частоты транзакций участников программы.\r\n",
    "\r\n",
    "После завершения акции видим падающий тренд по частоте транзакций среди участников программы.\r\n",
    "\r\n",
    "Стабильно высокая частота транзакций у когорты янв2023.\n",
    "\n",
    "</div>"
   ]
  },
  {
   "cell_type": "markdown",
   "id": "6b3b0965-666a-4cb0-95f7-53f84c31c776",
   "metadata": {},
   "source": [
    "[В начало](#начало)"
   ]
  },
  {
   "cell_type": "markdown",
   "id": "3ddf493a-a2c5-4d8b-9254-77eccbc5fb3a",
   "metadata": {},
   "source": [
    "<a id=\"средний\"></a>"
   ]
  },
  {
   "cell_type": "markdown",
   "id": "e9f5966b-ad5a-41da-96fb-a3abcb4e840a",
   "metadata": {},
   "source": [
    "## Средний чек"
   ]
  },
  {
   "cell_type": "markdown",
   "id": "9e5f15f4-5940-4050-80ef-2b3a58392dba",
   "metadata": {},
   "source": [
    "<div style=\"border:solid black 2px; padding: 20px\">\n",
    "\n",
    "Выведем средний чек по когортам и средний чек в рамках акции.\n",
    "\n",
    "</div>"
   ]
  },
  {
   "cell_type": "code",
   "execution_count": 19,
   "id": "cbc40bb3-4d70-4c20-a843-e6064e134619",
   "metadata": {},
   "outputs": [
    {
     "data": {
      "text/html": [
       "<div>\n",
       "<style scoped>\n",
       "    .dataframe tbody tr th:only-of-type {\n",
       "        vertical-align: middle;\n",
       "    }\n",
       "\n",
       "    .dataframe tbody tr th {\n",
       "        vertical-align: top;\n",
       "    }\n",
       "\n",
       "    .dataframe thead th {\n",
       "        text-align: right;\n",
       "    }\n",
       "</style>\n",
       "<table border=\"1\" class=\"dataframe\">\n",
       "  <thead>\n",
       "    <tr style=\"text-align: right;\">\n",
       "      <th></th>\n",
       "      <th>Месяц транзакции</th>\n",
       "      <th>Средний чек по участникам программы</th>\n",
       "      <th>Средний чек в рамках акции</th>\n",
       "      <th>Средний чек в акцию vs к участникам программы</th>\n",
       "    </tr>\n",
       "  </thead>\n",
       "  <tbody>\n",
       "    <tr>\n",
       "      <th>0</th>\n",
       "      <td>2022-12-01</td>\n",
       "      <td>1816.0</td>\n",
       "      <td>1966.0</td>\n",
       "      <td>0.08</td>\n",
       "    </tr>\n",
       "    <tr>\n",
       "      <th>1</th>\n",
       "      <td>2023-01-01</td>\n",
       "      <td>1313.0</td>\n",
       "      <td>1882.0</td>\n",
       "      <td>0.43</td>\n",
       "    </tr>\n",
       "    <tr>\n",
       "      <th>2</th>\n",
       "      <td>2023-02-01</td>\n",
       "      <td>1372.0</td>\n",
       "      <td>2078.0</td>\n",
       "      <td>0.51</td>\n",
       "    </tr>\n",
       "    <tr>\n",
       "      <th>3</th>\n",
       "      <td>2023-03-01</td>\n",
       "      <td>1293.0</td>\n",
       "      <td>2144.0</td>\n",
       "      <td>0.66</td>\n",
       "    </tr>\n",
       "    <tr>\n",
       "      <th>4</th>\n",
       "      <td>2023-04-01</td>\n",
       "      <td>929.0</td>\n",
       "      <td>0.0</td>\n",
       "      <td>0.00</td>\n",
       "    </tr>\n",
       "    <tr>\n",
       "      <th>5</th>\n",
       "      <td>2023-05-01</td>\n",
       "      <td>877.0</td>\n",
       "      <td>0.0</td>\n",
       "      <td>0.00</td>\n",
       "    </tr>\n",
       "    <tr>\n",
       "      <th>6</th>\n",
       "      <td>2023-06-01</td>\n",
       "      <td>988.0</td>\n",
       "      <td>0.0</td>\n",
       "      <td>0.00</td>\n",
       "    </tr>\n",
       "  </tbody>\n",
       "</table>\n",
       "</div>"
      ],
      "text/plain": [
       "  Месяц транзакции  Средний чек по участникам программы  \\\n",
       "0       2022-12-01                               1816.0   \n",
       "1       2023-01-01                               1313.0   \n",
       "2       2023-02-01                               1372.0   \n",
       "3       2023-03-01                               1293.0   \n",
       "4       2023-04-01                                929.0   \n",
       "5       2023-05-01                                877.0   \n",
       "6       2023-06-01                                988.0   \n",
       "\n",
       "   Средний чек в рамках акции  Средний чек в акцию vs к участникам программы  \n",
       "0                      1966.0                                           0.08  \n",
       "1                      1882.0                                           0.43  \n",
       "2                      2078.0                                           0.51  \n",
       "3                      2144.0                                           0.66  \n",
       "4                         0.0                                           0.00  \n",
       "5                         0.0                                           0.00  \n",
       "6                         0.0                                           0.00  "
      ]
     },
     "execution_count": 19,
     "metadata": {},
     "output_type": "execute_result"
    }
   ],
   "source": [
    "final['Средний чек по участникам программы'] = round(final['Сумма операций по участникам программы']\n",
    "                                               /final['Количество операций по участникам программы'], 0)\n",
    "\n",
    "final['Средний чек в рамках акции'] = round(final['Оборот в рамках акции']\n",
    "                                      /final['Транзакции в рамках акции'], 0)\n",
    "\n",
    "final['Средний чек в акцию vs к участникам программы'] = round((final['Средний чек в рамках акции']\n",
    "                                                         /final['Средний чек по участникам программы']) - 1, 2)\n",
    "\n",
    "final[['Месяц транзакции', 'Средний чек по участникам программы',\n",
    "       'Средний чек в рамках акции', 'Средний чек в акцию vs к участникам программы']]\\\n",
    "       .fillna(0)"
   ]
  },
  {
   "cell_type": "code",
   "execution_count": 20,
   "id": "29b393f3-8afb-4459-88d6-46c8940b504b",
   "metadata": {},
   "outputs": [
    {
     "data": {
      "text/html": [
       "<div>\n",
       "<style scoped>\n",
       "    .dataframe tbody tr th:only-of-type {\n",
       "        vertical-align: middle;\n",
       "    }\n",
       "\n",
       "    .dataframe tbody tr th {\n",
       "        vertical-align: top;\n",
       "    }\n",
       "\n",
       "    .dataframe thead th {\n",
       "        text-align: right;\n",
       "    }\n",
       "</style>\n",
       "<table border=\"1\" class=\"dataframe\">\n",
       "  <thead>\n",
       "    <tr style=\"text-align: right;\">\n",
       "      <th>Лайфтайм</th>\n",
       "      <th>0</th>\n",
       "      <th>1</th>\n",
       "      <th>2</th>\n",
       "      <th>3</th>\n",
       "      <th>4</th>\n",
       "      <th>5</th>\n",
       "      <th>6</th>\n",
       "    </tr>\n",
       "    <tr>\n",
       "      <th>Когорта</th>\n",
       "      <th></th>\n",
       "      <th></th>\n",
       "      <th></th>\n",
       "      <th></th>\n",
       "      <th></th>\n",
       "      <th></th>\n",
       "      <th></th>\n",
       "    </tr>\n",
       "  </thead>\n",
       "  <tbody>\n",
       "    <tr>\n",
       "      <th>2022-12-01</th>\n",
       "      <td>1816.0</td>\n",
       "      <td>890.0</td>\n",
       "      <td>1006.0</td>\n",
       "      <td>986.0</td>\n",
       "      <td>734.0</td>\n",
       "      <td>725.0</td>\n",
       "      <td>949.0</td>\n",
       "    </tr>\n",
       "    <tr>\n",
       "      <th>2023-01-01</th>\n",
       "      <td>1360.0</td>\n",
       "      <td>1342.0</td>\n",
       "      <td>1083.0</td>\n",
       "      <td>1148.0</td>\n",
       "      <td>993.0</td>\n",
       "      <td>999.0</td>\n",
       "      <td>0.0</td>\n",
       "    </tr>\n",
       "    <tr>\n",
       "      <th>2023-02-01</th>\n",
       "      <td>1439.0</td>\n",
       "      <td>1080.0</td>\n",
       "      <td>788.0</td>\n",
       "      <td>811.0</td>\n",
       "      <td>995.0</td>\n",
       "      <td>0.0</td>\n",
       "      <td>0.0</td>\n",
       "    </tr>\n",
       "    <tr>\n",
       "      <th>2023-03-01</th>\n",
       "      <td>1509.0</td>\n",
       "      <td>837.0</td>\n",
       "      <td>836.0</td>\n",
       "      <td>972.0</td>\n",
       "      <td>0.0</td>\n",
       "      <td>0.0</td>\n",
       "      <td>0.0</td>\n",
       "    </tr>\n",
       "  </tbody>\n",
       "</table>\n",
       "</div>"
      ],
      "text/plain": [
       "Лайфтайм         0       1       2       3      4      5      6\n",
       "Когорта                                                        \n",
       "2022-12-01  1816.0   890.0  1006.0   986.0  734.0  725.0  949.0\n",
       "2023-01-01  1360.0  1342.0  1083.0  1148.0  993.0  999.0    0.0\n",
       "2023-02-01  1439.0  1080.0   788.0   811.0  995.0    0.0    0.0\n",
       "2023-03-01  1509.0   837.0   836.0   972.0    0.0    0.0    0.0"
      ]
     },
     "execution_count": 20,
     "metadata": {},
     "output_type": "execute_result"
    }
   ],
   "source": [
    "cohort['Средний чек'] = round(cohort['Оборот'] / cohort['Количество операций'], 0)\n",
    "avg = cohort.pivot_table(index=['Когорта'], columns='Лайфтайм', values='Средний чек').fillna(0)\n",
    "avg"
   ]
  },
  {
   "cell_type": "code",
   "execution_count": 21,
   "id": "27d5ca50-bbeb-4511-915f-c6134444a475",
   "metadata": {},
   "outputs": [
    {
     "data": {
      "image/png": "[encoded data removed]",
      "text/plain": [
       "<Figure size 1000x500 with 2 Axes>"
      ]
     },
     "metadata": {},
     "output_type": "display_data"
    }
   ],
   "source": [
    "plt.figure(figsize=(10, 5)) \n",
    "sns.heatmap(\n",
    "    avg, \n",
    "    annot=True,\n",
    "    fmt='g'\n",
    ")\n",
    "plt.title('Средний чек по когортам') \n",
    "plt.show()"
   ]
  },
  {
   "cell_type": "code",
   "execution_count": 22,
   "id": "c66c9d6a-5bdc-4777-8352-76fe316a1978",
   "metadata": {},
   "outputs": [
    {
     "data": {
      "text/plain": [
       "Когорта\n",
       "2022-12-01    343.0\n",
       "2023-01-01    149.0\n",
       "2023-02-01    235.0\n",
       "2023-03-01    277.0\n",
       "Name: std, dtype: float64"
      ]
     },
     "execution_count": 22,
     "metadata": {},
     "output_type": "execute_result"
    }
   ],
   "source": [
    "# стандартное отклонение среднего чека по когортам\n",
    "\n",
    "avg2 = avg.replace(0, np.NaN)\n",
    "avg2['std'] = avg2.std(ddof=0, axis=1).round(0)\n",
    "avg2['std']"
   ]
  },
  {
   "cell_type": "markdown",
   "id": "8afff126-17cf-4428-9b3d-a25c0ac99604",
   "metadata": {},
   "source": [
    "<div style=\"border:solid green 2px; padding: 20px\">\n",
    "\n",
    "Средний чек в рамках акции был выше среднего чека по участникам программы в период акции в 1,5 раза (без учета декабря 2022, когда разница была незначительная).\n",
    "\n",
    "Средний чек в рамках акции был выше среднего чека по участникам программы после акции в 2 раза.\n",
    "\n",
    "В когорте янв2023 наименьшее отклонение значений среднего чека от центрального значения.\n",
    "\n",
    "Данная акция увеличивает средний чек.\n",
    "\n",
    "<div>"
   ]
  },
  {
   "cell_type": "markdown",
   "id": "2ebb9ac2-f30b-4a28-94b2-0c500fa6e564",
   "metadata": {},
   "source": [
    "[В начало](#начало)"
   ]
  },
  {
   "cell_type": "markdown",
   "id": "d0ee6d0d-4f65-4cac-9f21-45829f8358a3",
   "metadata": {},
   "source": [
    "<a id=\"доход\"></a>"
   ]
  },
  {
   "cell_type": "markdown",
   "id": "67c936d6-e120-478a-977b-e9355d17d5ed",
   "metadata": {},
   "source": [
    "## Доход с одного клиента"
   ]
  },
  {
   "cell_type": "markdown",
   "id": "c47772a2-f8df-48b9-bec7-d7c3c4039263",
   "metadata": {},
   "source": [
    "<div style=\"border:solid black 2px; padding: 20px\">\n",
    "\n",
    "Рассчитаем доход с одного клиента.\n",
    "\n",
    "</div>"
   ]
  },
  {
   "cell_type": "code",
   "execution_count": 23,
   "id": "48dfba3b-903c-4339-b6e3-cca3ba48322f",
   "metadata": {},
   "outputs": [
    {
     "data": {
      "text/html": [
       "<div>\n",
       "<style scoped>\n",
       "    .dataframe tbody tr th:only-of-type {\n",
       "        vertical-align: middle;\n",
       "    }\n",
       "\n",
       "    .dataframe tbody tr th {\n",
       "        vertical-align: top;\n",
       "    }\n",
       "\n",
       "    .dataframe thead th {\n",
       "        text-align: right;\n",
       "    }\n",
       "</style>\n",
       "<table border=\"1\" class=\"dataframe\">\n",
       "  <thead>\n",
       "    <tr style=\"text-align: right;\">\n",
       "      <th></th>\n",
       "      <th>Месяц транзакции</th>\n",
       "      <th>Доход с одного клиента в рамках акции</th>\n",
       "    </tr>\n",
       "  </thead>\n",
       "  <tbody>\n",
       "    <tr>\n",
       "      <th>0</th>\n",
       "      <td>2022-12-01</td>\n",
       "      <td>2043.0</td>\n",
       "    </tr>\n",
       "    <tr>\n",
       "      <th>1</th>\n",
       "      <td>2023-01-01</td>\n",
       "      <td>2366.0</td>\n",
       "    </tr>\n",
       "    <tr>\n",
       "      <th>2</th>\n",
       "      <td>2023-02-01</td>\n",
       "      <td>2651.0</td>\n",
       "    </tr>\n",
       "    <tr>\n",
       "      <th>3</th>\n",
       "      <td>2023-03-01</td>\n",
       "      <td>2739.0</td>\n",
       "    </tr>\n",
       "  </tbody>\n",
       "</table>\n",
       "</div>"
      ],
      "text/plain": [
       "  Месяц транзакции  Доход с одного клиента в рамках акции\n",
       "0       2022-12-01                                 2043.0\n",
       "1       2023-01-01                                 2366.0\n",
       "2       2023-02-01                                 2651.0\n",
       "3       2023-03-01                                 2739.0"
      ]
     },
     "execution_count": 23,
     "metadata": {},
     "output_type": "execute_result"
    }
   ],
   "source": [
    "final['Доход с одного клиента в рамках акции'] = round(final['Оборот в рамках акции']\n",
    "                                                 /final['Клиенты - участники акции в данном месяце'], 0)\n",
    "rows = [0,1,2,3]\n",
    "cols = ['Месяц транзакции', 'Доход с одного клиента в рамках акции']\n",
    "final.loc[final.index[rows], cols]"
   ]
  },
  {
   "cell_type": "code",
   "execution_count": 24,
   "id": "1db1af43-a9d3-4add-b8bc-500470e5ef7b",
   "metadata": {},
   "outputs": [
    {
     "data": {
      "text/html": [
       "<div>\n",
       "<style scoped>\n",
       "    .dataframe tbody tr th:only-of-type {\n",
       "        vertical-align: middle;\n",
       "    }\n",
       "\n",
       "    .dataframe tbody tr th {\n",
       "        vertical-align: top;\n",
       "    }\n",
       "\n",
       "    .dataframe thead th {\n",
       "        text-align: right;\n",
       "    }\n",
       "</style>\n",
       "<table border=\"1\" class=\"dataframe\">\n",
       "  <thead>\n",
       "    <tr style=\"text-align: right;\">\n",
       "      <th>Лайфтайм</th>\n",
       "      <th>0</th>\n",
       "      <th>1</th>\n",
       "      <th>2</th>\n",
       "      <th>3</th>\n",
       "      <th>4</th>\n",
       "      <th>5</th>\n",
       "      <th>6</th>\n",
       "    </tr>\n",
       "    <tr>\n",
       "      <th>Когорта</th>\n",
       "      <th></th>\n",
       "      <th></th>\n",
       "      <th></th>\n",
       "      <th></th>\n",
       "      <th></th>\n",
       "      <th></th>\n",
       "      <th></th>\n",
       "    </tr>\n",
       "  </thead>\n",
       "  <tbody>\n",
       "    <tr>\n",
       "      <th>2022-12-01</th>\n",
       "      <td>2103.0</td>\n",
       "      <td>1615.0</td>\n",
       "      <td>2113.0</td>\n",
       "      <td>2466.0</td>\n",
       "      <td>1160.0</td>\n",
       "      <td>1197.0</td>\n",
       "      <td>1202.0</td>\n",
       "    </tr>\n",
       "    <tr>\n",
       "      <th>2023-01-01</th>\n",
       "      <td>2690.0</td>\n",
       "      <td>2704.0</td>\n",
       "      <td>2455.0</td>\n",
       "      <td>2421.0</td>\n",
       "      <td>1828.0</td>\n",
       "      <td>1765.0</td>\n",
       "      <td>0.0</td>\n",
       "    </tr>\n",
       "    <tr>\n",
       "      <th>2023-02-01</th>\n",
       "      <td>2500.0</td>\n",
       "      <td>1912.0</td>\n",
       "      <td>1463.0</td>\n",
       "      <td>1344.0</td>\n",
       "      <td>1528.0</td>\n",
       "      <td>0.0</td>\n",
       "      <td>0.0</td>\n",
       "    </tr>\n",
       "    <tr>\n",
       "      <th>2023-03-01</th>\n",
       "      <td>2799.0</td>\n",
       "      <td>1562.0</td>\n",
       "      <td>1447.0</td>\n",
       "      <td>1509.0</td>\n",
       "      <td>0.0</td>\n",
       "      <td>0.0</td>\n",
       "      <td>0.0</td>\n",
       "    </tr>\n",
       "  </tbody>\n",
       "</table>\n",
       "</div>"
      ],
      "text/plain": [
       "Лайфтайм         0       1       2       3       4       5       6\n",
       "Когорта                                                           \n",
       "2022-12-01  2103.0  1615.0  2113.0  2466.0  1160.0  1197.0  1202.0\n",
       "2023-01-01  2690.0  2704.0  2455.0  2421.0  1828.0  1765.0     0.0\n",
       "2023-02-01  2500.0  1912.0  1463.0  1344.0  1528.0     0.0     0.0\n",
       "2023-03-01  2799.0  1562.0  1447.0  1509.0     0.0     0.0     0.0"
      ]
     },
     "execution_count": 24,
     "metadata": {},
     "output_type": "execute_result"
    }
   ],
   "source": [
    "cohort['Доход с одного клиента'] = round(cohort['Оборот'] / cohort['Количество клиентов'], 0)\n",
    "\n",
    "rev_per_user = cohort.pivot_table(index=['Когорта'], columns='Лайфтайм', values='Доход с одного клиента')\\\n",
    "                     .fillna(0)\n",
    "rev_per_user"
   ]
  },
  {
   "cell_type": "code",
   "execution_count": 25,
   "id": "f2bc7aa7-9cb3-4f96-9690-0f31f73d0e6f",
   "metadata": {},
   "outputs": [
    {
     "data": {
      "image/png": "[encoded data removed]",
      "text/plain": [
       "<Figure size 1000x500 with 2 Axes>"
      ]
     },
     "metadata": {},
     "output_type": "display_data"
    }
   ],
   "source": [
    "plt.figure(figsize=(10, 5))\n",
    "sns.heatmap(\n",
    "    rev_per_user, \n",
    "    annot=True,\n",
    "    fmt='g'\n",
    ")\n",
    "plt.title('Доход с одного клиента')\n",
    "plt.show()"
   ]
  },
  {
   "cell_type": "markdown",
   "id": "4bb45575-a4fd-4e04-a178-bb1af1531f1c",
   "metadata": {},
   "source": [
    "<div style=\"border:solid green 2px; padding: 20px\">\n",
    "\n",
    "Доход с одного клиента в акцию вырос. В пункте ниже мы видели, что вырос средний чек в период акции.\r\n",
    "\r\n",
    "Самый высокий доход с одного клиента в рамках акции мы наблюдаем в марте.\r\n",
    "\r\n",
    "В когорте янв2023 стабильно высокий доход с одного клиента по месяцам.\n",
    "\n",
    "</div>"
   ]
  },
  {
   "cell_type": "markdown",
   "id": "c1020514-fd01-43ed-9185-2dc7ae6304fe",
   "metadata": {},
   "source": [
    "[В начало](#начало)"
   ]
  },
  {
   "cell_type": "markdown",
   "id": "771fcb47-0419-4654-89f6-f14c0862c6cd",
   "metadata": {},
   "source": [
    "<a id=\"оборот\"></a>"
   ]
  },
  {
   "cell_type": "markdown",
   "id": "f8d74e20-4da0-48fa-8c81-d690e51d5fa9",
   "metadata": {},
   "source": [
    "## Оборот по месяцам"
   ]
  },
  {
   "cell_type": "markdown",
   "id": "9fbbae54-9e03-4e2a-8827-728b04fd13f1",
   "metadata": {},
   "source": [
    "<div style=\"border:solid black 2px; padding: 20px\">\n",
    "\n",
    "Выведем данные по обороту.\n",
    "\n",
    "</div>"
   ]
  },
  {
   "cell_type": "code",
   "execution_count": 26,
   "id": "10a4f15a-cb4f-44b6-b2fb-7e2ba108c81d",
   "metadata": {},
   "outputs": [
    {
     "data": {
      "text/html": [
       "<div>\n",
       "<style scoped>\n",
       "    .dataframe tbody tr th:only-of-type {\n",
       "        vertical-align: middle;\n",
       "    }\n",
       "\n",
       "    .dataframe tbody tr th {\n",
       "        vertical-align: top;\n",
       "    }\n",
       "\n",
       "    .dataframe thead th {\n",
       "        text-align: right;\n",
       "    }\n",
       "</style>\n",
       "<table border=\"1\" class=\"dataframe\">\n",
       "  <thead>\n",
       "    <tr style=\"text-align: right;\">\n",
       "      <th>Лайфтайм</th>\n",
       "      <th>0</th>\n",
       "      <th>1</th>\n",
       "      <th>2</th>\n",
       "      <th>3</th>\n",
       "      <th>4</th>\n",
       "      <th>5</th>\n",
       "      <th>6</th>\n",
       "      <th>Итого</th>\n",
       "    </tr>\n",
       "    <tr>\n",
       "      <th>Когорта</th>\n",
       "      <th></th>\n",
       "      <th></th>\n",
       "      <th></th>\n",
       "      <th></th>\n",
       "      <th></th>\n",
       "      <th></th>\n",
       "      <th></th>\n",
       "      <th></th>\n",
       "    </tr>\n",
       "  </thead>\n",
       "  <tbody>\n",
       "    <tr>\n",
       "      <th>2022-12-01</th>\n",
       "      <td>159798.0</td>\n",
       "      <td>61381.0</td>\n",
       "      <td>63382.0</td>\n",
       "      <td>59185.0</td>\n",
       "      <td>35948.0</td>\n",
       "      <td>23941.0</td>\n",
       "      <td>18030.0</td>\n",
       "      <td>421665.0</td>\n",
       "    </tr>\n",
       "    <tr>\n",
       "      <th>2023-01-01</th>\n",
       "      <td>842107.0</td>\n",
       "      <td>370420.0</td>\n",
       "      <td>284733.0</td>\n",
       "      <td>244540.0</td>\n",
       "      <td>149931.0</td>\n",
       "      <td>112942.0</td>\n",
       "      <td>0.0</td>\n",
       "      <td>2004673.0</td>\n",
       "    </tr>\n",
       "    <tr>\n",
       "      <th>2023-02-01</th>\n",
       "      <td>665022.0</td>\n",
       "      <td>183564.0</td>\n",
       "      <td>122861.0</td>\n",
       "      <td>94067.0</td>\n",
       "      <td>85583.0</td>\n",
       "      <td>0.0</td>\n",
       "      <td>0.0</td>\n",
       "      <td>1151097.0</td>\n",
       "    </tr>\n",
       "    <tr>\n",
       "      <th>2023-03-01</th>\n",
       "      <td>766816.0</td>\n",
       "      <td>139025.0</td>\n",
       "      <td>96943.0</td>\n",
       "      <td>70938.0</td>\n",
       "      <td>0.0</td>\n",
       "      <td>0.0</td>\n",
       "      <td>0.0</td>\n",
       "      <td>1073722.0</td>\n",
       "    </tr>\n",
       "  </tbody>\n",
       "</table>\n",
       "</div>"
      ],
      "text/plain": [
       "Лайфтайм           0         1         2         3         4         5  \\\n",
       "Когорта                                                                  \n",
       "2022-12-01  159798.0   61381.0   63382.0   59185.0   35948.0   23941.0   \n",
       "2023-01-01  842107.0  370420.0  284733.0  244540.0  149931.0  112942.0   \n",
       "2023-02-01  665022.0  183564.0  122861.0   94067.0   85583.0       0.0   \n",
       "2023-03-01  766816.0  139025.0   96943.0   70938.0       0.0       0.0   \n",
       "\n",
       "Лайфтайм          6      Итого  \n",
       "Когорта                         \n",
       "2022-12-01  18030.0   421665.0  \n",
       "2023-01-01      0.0  2004673.0  \n",
       "2023-02-01      0.0  1151097.0  \n",
       "2023-03-01      0.0  1073722.0  "
      ]
     },
     "execution_count": 26,
     "metadata": {},
     "output_type": "execute_result"
    }
   ],
   "source": [
    "rev = cohort.pivot_table(index=['Когорта'], columns='Лайфтайм', values='Оборот').fillna(0).round(0)\n",
    "rev['Итого'] = rev.sum(axis=1)\n",
    "rev"
   ]
  },
  {
   "cell_type": "code",
   "execution_count": 27,
   "id": "39c74f41-d504-460d-86d7-f50da9dbb4f9",
   "metadata": {},
   "outputs": [
    {
     "data": {
      "image/png": "[encoded data removed]",
      "text/plain": [
       "<Figure size 1000x500 with 2 Axes>"
      ]
     },
     "metadata": {},
     "output_type": "display_data"
    }
   ],
   "source": [
    "plt.figure(figsize=(10, 5)) \n",
    "sns.heatmap(\n",
    "    rev.drop('Итого', axis=1),  # удаляем лишние столбцы\n",
    "    annot=True,\n",
    "    fmt='g'\n",
    ")\n",
    "plt.title('Оборот по когортам') \n",
    "plt.show()"
   ]
  },
  {
   "cell_type": "code",
   "execution_count": 28,
   "id": "7e9cd824-5ee1-4fd5-a185-0b8ad634f386",
   "metadata": {},
   "outputs": [
    {
     "data": {
      "text/html": [
       "<div>\n",
       "<style scoped>\n",
       "    .dataframe tbody tr th:only-of-type {\n",
       "        vertical-align: middle;\n",
       "    }\n",
       "\n",
       "    .dataframe tbody tr th {\n",
       "        vertical-align: top;\n",
       "    }\n",
       "\n",
       "    .dataframe thead th {\n",
       "        text-align: right;\n",
       "    }\n",
       "</style>\n",
       "<table border=\"1\" class=\"dataframe\">\n",
       "  <thead>\n",
       "    <tr style=\"text-align: right;\">\n",
       "      <th></th>\n",
       "      <th>Месяц транзакции</th>\n",
       "      <th>Сумма операций по участникам программы</th>\n",
       "    </tr>\n",
       "  </thead>\n",
       "  <tbody>\n",
       "    <tr>\n",
       "      <th>0</th>\n",
       "      <td>2022-12-01</td>\n",
       "      <td>159798.17</td>\n",
       "    </tr>\n",
       "    <tr>\n",
       "      <th>1</th>\n",
       "      <td>2023-01-01</td>\n",
       "      <td>903487.51</td>\n",
       "    </tr>\n",
       "    <tr>\n",
       "      <th>2</th>\n",
       "      <td>2023-02-01</td>\n",
       "      <td>1098824.29</td>\n",
       "    </tr>\n",
       "    <tr>\n",
       "      <th>3</th>\n",
       "      <td>2023-03-01</td>\n",
       "      <td>1294297.42</td>\n",
       "    </tr>\n",
       "    <tr>\n",
       "      <th>4</th>\n",
       "      <td>2023-04-01</td>\n",
       "      <td>542373.67</td>\n",
       "    </tr>\n",
       "    <tr>\n",
       "      <th>5</th>\n",
       "      <td>2023-05-01</td>\n",
       "      <td>364880.71</td>\n",
       "    </tr>\n",
       "    <tr>\n",
       "      <th>6</th>\n",
       "      <td>2023-06-01</td>\n",
       "      <td>287492.29</td>\n",
       "    </tr>\n",
       "  </tbody>\n",
       "</table>\n",
       "</div>"
      ],
      "text/plain": [
       "  Месяц транзакции  Сумма операций по участникам программы\n",
       "0       2022-12-01                               159798.17\n",
       "1       2023-01-01                               903487.51\n",
       "2       2023-02-01                              1098824.29\n",
       "3       2023-03-01                              1294297.42\n",
       "4       2023-04-01                               542373.67\n",
       "5       2023-05-01                               364880.71\n",
       "6       2023-06-01                               287492.29"
      ]
     },
     "execution_count": 28,
     "metadata": {},
     "output_type": "execute_result"
    }
   ],
   "source": [
    "rev_total = final[['Месяц транзакции', 'Сумма операций по участникам программы']]\n",
    "rev_total"
   ]
  },
  {
   "cell_type": "code",
   "execution_count": 29,
   "id": "c31bef4c-88c2-47b8-a850-db68841df021",
   "metadata": {},
   "outputs": [
    {
     "data": {
      "image/png": "[encoded data removed]",
      "text/plain": [
       "<Figure size 800x400 with 1 Axes>"
      ]
     },
     "metadata": {},
     "output_type": "display_data"
    }
   ],
   "source": [
    "plt.figure(figsize=(8, 4))\n",
    "fig = sns.barplot(x = 'Месяц транзакции', y = 'Сумма операций по участникам программы', data = rev_total)\n",
    "\n",
    "plt.xlabel('Месяц транзакции')\n",
    "plt.ylabel('Оборот')\n",
    "plt.title('Сумма операций по участникам программы')\n",
    "\n",
    "plt.show()"
   ]
  },
  {
   "cell_type": "markdown",
   "id": "7788ef14-704e-4b11-bf5d-84dbcc3b86eb",
   "metadata": {},
   "source": [
    "<div style=\"border:solid green 2px; padding: 20px\">\n",
    "\n",
    "В марте 2023 самый высокий оборот по участникам программы.\r\n",
    "\r\n",
    "У когорты янв2023 самый высокий суммарный оборот, а также самый высокий оборот в разрезе лайфайма.\n",
    "\n",
    "</div>"
   ]
  },
  {
   "cell_type": "markdown",
   "id": "2e838d26-ed63-4fc8-89bb-47eb45602075",
   "metadata": {},
   "source": [
    "[В начало](#начало)"
   ]
  },
  {
   "cell_type": "markdown",
   "id": "b807c3cc-e73c-4924-88f2-b0ee82c7d580",
   "metadata": {},
   "source": [
    "<a id=\"Соотношение\"></a>"
   ]
  },
  {
   "cell_type": "markdown",
   "id": "b04919fe-5241-4e9f-bfb1-7b1257967f24",
   "metadata": {},
   "source": [
    "## Соотношение доходов и расходов"
   ]
  },
  {
   "cell_type": "markdown",
   "id": "9bf9a5eb-b16f-4fe6-8e4e-d41e4171c662",
   "metadata": {},
   "source": [
    "<div style=\"border:solid black 2px; padding: 20px\">\n",
    "\n",
    "Расходы (предполагаемые):\n",
    "* Кэшбэк 3%.\n",
    "* Зададим предполагаемую комиссию 3%.\n",
    "\n",
    "Рассмотрим соотношение доходов и расходов.\n",
    "\n",
    "</div>"
   ]
  },
  {
   "cell_type": "code",
   "execution_count": 30,
   "id": "0ad0338f-2a39-4fa8-814f-5b46c9283285",
   "metadata": {},
   "outputs": [],
   "source": [
    "cashback = 0.03\n",
    "commission = 0.03 # предполагаемая комиссия\n",
    "cash_comm = cashback + commission"
   ]
  },
  {
   "cell_type": "code",
   "execution_count": 31,
   "id": "1d2e17ab-78d7-4e5f-86dc-9bad2f402f09",
   "metadata": {},
   "outputs": [
    {
     "data": {
      "text/html": [
       "<style type=\"text/css\">\n",
       "</style>\n",
       "<table id=\"T_3473c\">\n",
       "  <thead>\n",
       "    <tr>\n",
       "      <th class=\"blank level0\" >&nbsp;</th>\n",
       "      <th id=\"T_3473c_level0_col0\" class=\"col_heading level0 col0\" >Оборот в рамках акции</th>\n",
       "      <th id=\"T_3473c_level0_col1\" class=\"col_heading level0 col1\" >Сумма операций по участникам программы</th>\n",
       "      <th id=\"T_3473c_level0_col2\" class=\"col_heading level0 col2\" >Расходы</th>\n",
       "      <th id=\"T_3473c_level0_col3\" class=\"col_heading level0 col3\" >Доля расходов от суммарного оборота</th>\n",
       "    </tr>\n",
       "    <tr>\n",
       "      <th class=\"index_name level0\" >Итог</th>\n",
       "      <th class=\"blank col0\" >&nbsp;</th>\n",
       "      <th class=\"blank col1\" >&nbsp;</th>\n",
       "      <th class=\"blank col2\" >&nbsp;</th>\n",
       "      <th class=\"blank col3\" >&nbsp;</th>\n",
       "    </tr>\n",
       "  </thead>\n",
       "  <tbody>\n",
       "    <tr>\n",
       "      <th id=\"T_3473c_level0_row0\" class=\"row_heading level0 row0\" >Итог</th>\n",
       "      <td id=\"T_3473c_row0_col0\" class=\"data row0 col0\" >2,977,249.0</td>\n",
       "      <td id=\"T_3473c_row0_col1\" class=\"data row0 col1\" >4,651,154.0</td>\n",
       "      <td id=\"T_3473c_row0_col2\" class=\"data row0 col2\" >178,635.0</td>\n",
       "      <td id=\"T_3473c_row0_col3\" class=\"data row0 col3\" >0.04</td>\n",
       "    </tr>\n",
       "  </tbody>\n",
       "</table>\n"
      ],
      "text/plain": [
       "<pandas.io.formats.style.Styler at 0x1b4c7525a50>"
      ]
     },
     "execution_count": 31,
     "metadata": {},
     "output_type": "execute_result"
    }
   ],
   "source": [
    "final['Итог'] = 'Итог'\n",
    "total = final.pivot_table(index='Итог',\n",
    "                          values=['Сумма операций по участникам программы', 'Оборот в рамках акции'],\n",
    "                          aggfunc='sum').round()\n",
    "\n",
    "total['Расходы'] = round(total['Оборот в рамках акции'] * cash_comm, 0)\n",
    "\n",
    "total['Доля расходов от суммарного оборота'] = round(total['Расходы']\n",
    "                                                     /total['Сумма операций по участникам программы'], 2)\n",
    "total.style.format('{:,}')"
   ]
  },
  {
   "cell_type": "markdown",
   "id": "2d185411-7b48-450c-8ea2-7d2d887433ad",
   "metadata": {},
   "source": [
    "<div style=\"border:solid green 2px; padding: 20px\">\n",
    "\n",
    "Доходы программы лояльности значительно превысили расходы (предполагаемые расходы).\n",
    "\n",
    "</div>"
   ]
  },
  {
   "cell_type": "markdown",
   "id": "00445071-6d6f-434f-a5fc-45a9227778fc",
   "metadata": {},
   "source": [
    "[В начало](#начало)"
   ]
  },
  {
   "cell_type": "markdown",
   "id": "d18800d8-6a28-4583-9f95-29412d11fb05",
   "metadata": {},
   "source": [
    "<a id=\"Выводы\"></a>"
   ]
  },
  {
   "cell_type": "markdown",
   "id": "a89f3719-38ec-4272-9178-abdca8b25c4c",
   "metadata": {},
   "source": [
    "## Выводы"
   ]
  },
  {
   "cell_type": "markdown",
   "id": "07167e99-a6b4-455a-b595-30a979594204",
   "metadata": {},
   "source": [
    "<div style=\"border:solid green 2px; padding: 20px\">\n",
    "\n",
    "**Выводы по итогам акции \"3% кэшбэк на сумму от 999 рублей\". Период акции 01.12.2022-31.03.2023 г.**\n",
    "\n",
    "Акцию можно считать успешной.\n",
    "\n",
    "* Доходы значительно превысили расходы. Доля расходов от суммарного оборота 4%.\n",
    "\n",
    "* В акцию выросли показатели среднего чека и частота транзакций.\n",
    "    * Средний чек в рамках акции был выше среднего чека по участникам программы в период акции в 1,5 раза (без учета декабря 2022, когда разница была незначительная). Средний чек в рамках акции был выше среднего чека по участникам программы после акции в 2 раза.\n",
    "    * После завершения акции видим падающий тренд по частоте транзакций среди участников программы.\n",
    "\n",
    "* Обратить внимание на когорту янв2023, показала лучшие результаты по большинству метрик, вероятно стоит разработать персональные предложения для участников данной когорты. А также более детально изучить данную когорту, чтобы выявить факторы успеха и применить данные знания при запуске следующих акций.\n",
    "\n",
    "* Слабые показатели у когорты дек2022, низкое число участников, это была первая когорты данной акции, возможно недостаточно освещалась акция вначале. Проверить этот момент и учесть в будущем при запуске акции.\n",
    "\n",
    "</div>"
   ]
  }
 ],
 "metadata": {
  "kernelspec": {
   "display_name": "Python 3 (ipykernel)",
   "language": "python",
   "name": "python3"
  },
  "language_info": {
   "codemirror_mode": {
    "name": "ipython",
    "version": 3
   },
   "file_extension": ".py",
   "mimetype": "text/x-python",
   "name": "python",
   "nbconvert_exporter": "python",
   "pygments_lexer": "ipython3",
   "version": "3.11.7"
  }
 },
 "nbformat": 4,
 "nbformat_minor": 5
}
